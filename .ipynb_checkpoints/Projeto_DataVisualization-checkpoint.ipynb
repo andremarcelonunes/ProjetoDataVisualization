{
 "cells": [
  {
   "cell_type": "markdown",
   "metadata": {},
   "source": [
    "#  DATA VISUALIZATION PROJECT - ALL ATHLETICS COMPETITIONS FROM 2010 TO 2021"
   ]
  },
  {
   "cell_type": "markdown",
   "metadata": {},
   "source": [
    "## IMPORT LIBRARIES "
   ]
  },
  {
   "cell_type": "code",
   "execution_count": null,
   "metadata": {
    "ExecuteTime": {
     "end_time": "2022-02-01T22:55:41.002440Z",
     "start_time": "2022-02-01T22:55:36.353077Z"
    }
   },
   "outputs": [],
   "source": [
    "!pip install psycopg2"
   ]
  },
  {
   "cell_type": "code",
   "execution_count": 10,
   "metadata": {
    "ExecuteTime": {
     "end_time": "2022-02-19T03:21:03.258449Z",
     "start_time": "2022-02-19T03:20:52.239988Z"
    }
   },
   "outputs": [
    {
     "name": "stdout",
     "output_type": "stream",
     "text": [
      "Requirement already up-to-date: simplejson in c:\\datascience\\anaconda\\software\\lib\\site-packages (3.17.6)\n"
     ]
    }
   ],
   "source": [
    "!pip install -U simplejson"
   ]
  },
  {
   "cell_type": "code",
   "execution_count": 13,
   "metadata": {
    "ExecuteTime": {
     "end_time": "2022-02-19T23:50:28.147908Z",
     "start_time": "2022-02-19T23:50:28.134943Z"
    }
   },
   "outputs": [],
   "source": [
    "\n",
    "import json\n",
    "import re\n",
    "import time\n",
    "import requests\n",
    "import pandas as pd\n",
    "import numpy as np\n",
    "from bs4 import BeautifulSoup\n",
    "import psycopg2\n",
    "from psycopg2.errors import UniqueViolation\n",
    "from psycopg2.errors import SyntaxError\n",
    "from sqlalchemy import create_engine\n",
    "import ssl\n",
    "from simplejson import JSONDecodeError\n",
    "import multiprocess\n",
    "from multiprocess import Pool, cpu_count\n",
    "from tqdm import tqdm"
   ]
  },
  {
   "cell_type": "markdown",
   "metadata": {},
   "source": [
    "## INITIAL PARAMETERS FOR PROCESSING DATA "
   ]
  },
  {
   "cell_type": "code",
   "execution_count": 28,
   "metadata": {
    "ExecuteTime": {
     "end_time": "2022-02-19T23:54:34.101154Z",
     "start_time": "2022-02-19T23:54:34.087166Z"
    }
   },
   "outputs": [],
   "source": [
    "year= 2017 # ALL FUNCTIONS ARE BASED ON YEAR THAT WILL BE PROCESSED, SO ALWAYS CHECK THIS BEFORE EXECUTING SOME CODE BELLOW\n",
    "token_wheter = open('apikey.txt', 'r').read()\n",
    "user_db = open('user_db.txt', 'r').read()\n",
    "pass_db = open('pass_db.txt', 'r').read()"
   ]
  },
  {
   "cell_type": "markdown",
   "metadata": {},
   "source": [
    "## FUNCTIONS USED BY CODE"
   ]
  },
  {
   "cell_type": "code",
   "execution_count": 37,
   "metadata": {
    "ExecuteTime": {
     "end_time": "2022-02-20T00:01:47.328710Z",
     "start_time": "2022-02-20T00:01:47.307771Z"
    }
   },
   "outputs": [],
   "source": [
    "def getcomp(year, pag=1):\n",
    "    '''\n",
    "    year is the year when competition was done\n",
    "\n",
    "    Its return is a object soup. It´s a kind of html conteiner based an answer from server\n",
    "    or can be a integer -1 when there is no information for that year\n",
    "\n",
    "\n",
    "    '''  \n",
    "    ssl._create_default_https_context = ssl._create_unverified_context\n",
    "    get_html = requests.get(f'https://worldathletics.org/records/competition-performance-rankings?type=2&year={year}&sortBy=score&page={pag}')\n",
    "    html = get_html.content\n",
    "    soup = BeautifulSoup(html)\n",
    "    list_results = soup.find_all('h2', attrs = {'class' : 'no-results'})\n",
    "    if len(list_results) > 0:\n",
    "        return -1\n",
    "    return [soup, pag]\n",
    "\n",
    "\n",
    "def atualiza_prova_compet(cursor, cod_prova, cod_competicao, score_prova_competicao,data_prova_competicao):\n",
    "    \n",
    "    '''\n",
    "    This function creates e correlates proves and competitions\n",
    "    '''  \n",
    "    try: \n",
    "        print(f'Inserindo competicao {cod_competicao} e prova {cod_prova}')\n",
    "        cursor.execute(f\"INSERT INTO tb_prova_competicao (cod_prova, cod_competicao, score_prova_competicao,data_prova_competicao)\" \\\n",
    "                       f\"VALUES ({cod_prova}, {cod_competicao[0]}, {score_prova_competicao},'{data_prova_competicao}')\")\n",
    "\n",
    "    except UniqueViolation:\n",
    "        print (\"prova ja existe na competicao\")\n",
    "        \n",
    "                    \n",
    "def atualiza_atleta_prova_competicao(cursor,cod_prova, cod_competicao, lista_tb_atleta_competicao):\n",
    "    '''\n",
    "    This function find each atletes for each  prove and insert it on prove\n",
    "\n",
    "\n",
    "    '''  \n",
    "    cursor.execute(f\"select cod_prova_competicao from tb_prova_competicao where cod_prova = {cod_prova} and cod_competicao = {cod_competicao[0]}\")\n",
    "    cod_prova_competicao = cursor.fetchone()[0] \n",
    "    for x in lista_tb_atleta_competicao:\n",
    "        try:\n",
    "            print(f'Inserindo atleta {x[0]}')\n",
    "            cursor.execute(f\"INSERT INTO tb_atleta_prova_competicao (cod_atleta, cod_prova_competicao, result, score)\" \\\n",
    "                         f\"VALUES ({x[0]}, {cod_prova_competicao}, '{x[1]}', {x[2]})\")\n",
    "        except UniqueViolation:\n",
    "            print (\"atleta ja existe na prova\")\n",
    "            \n",
    "            \n",
    "            \n",
    "            \n",
    "def atualiza_atleta(cursor,cod_atleta, lista_tb_atleta_competicao):\n",
    "    '''\n",
    "    This function insert atlete code in table athete\n",
    "    '''  \n",
    "    for x in lista_tb_atleta_competicao:\n",
    "        try:\n",
    "            print(f'Inserindo atleta na tb_atleta {x[0]}')\n",
    "            cursor.execute(f\"INSERT INTO tb_atleta (cod_atleta)\" \\\n",
    "                         f\"VALUES ({x[0]})\")\n",
    "        except UniqueViolation:\n",
    "            print (\"atleta ja existe na tb_atleta\")\n",
    "            \n",
    "            \n",
    "            \n",
    "def update_atleta(cursor,cod_atleta,url_atleta,pais_atleta,nome_atleta):\n",
    "    \n",
    "    '''\n",
    "    This function update  atlete information  on table athete\n",
    "    '''  \n",
    "   \n",
    "        \n",
    "    cursor.execute(f\"UPDATE tb_atleta SET url_atleta = '{url_atleta}', \" \\\n",
    "                         f\"pais_atleta = '{pais_atleta}', nome_atleta = '{nome_atleta}' WHERE cod_atleta = {cod_atleta}\")\n",
    "    print (f\"atleta {cod_atleta} atualizado\")\n",
    "            \n",
    "def update_wheter(cursor,data_prova_competicao, pais_competicao, cidade_competicao, json_resp):\n",
    "    '''\n",
    "    This function update  weather information to every day thats occurs proves\n",
    "    '''\n",
    "    try:\n",
    "        cursor.execute(f\"INSERT INTO tb_wheter (data_prova_competicao, pais_competicao, cidade_competicao, info_wheter)\" \\\n",
    "                         f\"VALUES ('{data_prova_competicao}', '{pais_competicao}', '{cidade_competicao}', '{json_resp}')\")\n",
    "    except UniqueViolation:\n",
    "            print (\"condições climaticas já existem na base\")\n",
    "            \n",
    "            \n",
    "            \n",
    "def connect_db():\n",
    "    '''\n",
    "    This function connect data base\n",
    "    '''  \n",
    "   \n",
    "    import psycopg2\n",
    "    from psycopg2.errors import UniqueViolation\n",
    "    from psycopg2.errors import SyntaxError\n",
    "    connection = psycopg2.connect(user=\"postgres\",\n",
    "                                  password=\"jujuba11\",\n",
    "                                  host=\"127.0.0.1\",\n",
    "                                  port=\"5432\",\n",
    "                                  database=\"db_atletismo\",\n",
    "                                  options=\"-c search_path=db_atl\")\n",
    "\n",
    "\n",
    "    connection.autocommit = True\n",
    "    return connection.cursor()\n",
    "\n",
    "  \n"
   ]
  },
  {
   "cell_type": "markdown",
   "metadata": {},
   "source": [
    "## Insertions on tb_competicao"
   ]
  },
  {
   "cell_type": "code",
   "execution_count": null,
   "metadata": {
    "ExecuteTime": {
     "end_time": "2022-02-13T18:43:10.181389Z",
     "start_time": "2022-02-13T18:42:50.025022Z"
    }
   },
   "outputs": [],
   "source": [
    "cursor = connect_db()\n",
    "contador = 0\n",
    "list_results = []\n",
    "soup = getcomp(year,1)[0]\n",
    "pagina = getcomp(year,1)[1]   \n",
    "last_page = int(soup.find_all('a', attrs = {'class' : 'btn--pagination btn--pag-last pag-control'})[0]['data-page'])\n",
    "list_competicao = soup.find_all('tbody')[0].find_all('tr')\n",
    "\n",
    "if last_page > 0:\n",
    "    for pagina_int in range(last_page):\n",
    "        pagina_int += 1\n",
    "        soup = getcomp(year,pagina_int)[0]\n",
    "        pagina = getcomp(year,pagina_int)[1]   \n",
    "        list_competicao = soup.find_all('tbody')[0].find_all('tr')\n",
    "    \n",
    "        time.sleep(5)\n",
    "\n",
    "        for line in range(len(list_competicao)-1):\n",
    "            try:\n",
    "                cod_competicao = re.findall(r'\\d+',list_competicao[line]['data-href'])[0]\n",
    "                place = list_competicao[line].find_all('td')[0].text.strip()\n",
    "                #  competition = list_competicao[line].find_all('td')[1].text.strip()\n",
    "            \n",
    "                tamanho = len(list_competicao[line].find_all('td')[1].text.strip().split(\",\"))\n",
    "            \n",
    "                lista_nome_competicao = list_competicao[line].find_all('td')[1].text.strip().split(\",\")\n",
    "                nome_competicao = \" \".join(re.findall(\"[a-zA-Z]+\", lista_nome_competicao[0].strip()))\n",
    "                cidade_competicao =  \" \".join(re.findall(\"[a-zA-Z]+\", lista_nome_competicao[len(lista_nome_competicao)-1].strip()))\n",
    "                   \n",
    "         \n",
    "                country = list_competicao[line].find_all('td')[2].text.strip()\n",
    "                Start_date = list_competicao[line].find_all('td')[3].text.strip()\n",
    "                end_date = list_competicao[line].find_all('td')[4].text.strip()\n",
    "                part_score = list_competicao[line].find_all('td')[5].text.strip()\n",
    "                ps_place = list_competicao[line].find_all('td')[6].text.strip()\n",
    "                result_score = list_competicao[line].find_all('td')[7].text.strip()\n",
    "                rs_place = list_competicao[line].find_all('td')[8].text.strip()\n",
    "       \n",
    "                if pagina == 1:\n",
    "                   comp_score = list_competicao[line].find_all('td')[10].text.strip()\n",
    "                else:\n",
    "                    comp_score = list_competicao[line].find_all('td')[9].text.strip()\n",
    "             \n",
    "                list_results.append((cod_competicao, nome_competicao, comp_score, part_score, result_score, Start_date, end_date,\n",
    "                                  cidade_competicao, country, ps_place, rs_place ))\n",
    "            \n",
    "            \n",
    "                sql_update = f\"INSERT INTO tb_competicao (cod_competicao, nome_competição, score_competicao,\" \\\n",
    "                    f\"score_participacao_competicao, score_result_competicao, data_inicial_competicao,\" \\\n",
    "                    f\"data_final_competicao, cidade_competicao, pais_competicao,\" \\\n",
    "                    f\"ps_place_competicao, rs_place_competicao)\" \\\n",
    "                    f\" VALUES ({cod_competicao},'{nome_competicao}','{comp_score}','{part_score}','{result_score}','{Start_date}','{end_date}', \"\\\n",
    "                    f\"'{cidade_competicao}','{country}','{ps_place}','{rs_place}')\"\n",
    "                contador += 1  \n",
    "                print (f'Executando Query {contador} executada')\n",
    "                cursor.execute(sql_update)\n",
    "        \n",
    "           # except UniqueViolation:\n",
    "           #     print(\"Registro encontrado\")\n",
    "           #     continue     ''' \n",
    "            \n",
    "            except (Exception, psycopg2.DatabaseError) as error:\n",
    "                print(\"Error in transction Reverting all other operations of a transction \", error)\n",
    "    \n",
    "\n",
    "print(\"Transaction completed successfully \")\n",
    "\n",
    "if connection:\n",
    "    connection.commit()\n",
    "    cursor.close()\n",
    "    connection.close()\n",
    "    print(\"PostgreSQL connection is closed\")\n",
    "    \n",
    "     "
   ]
  },
  {
   "cell_type": "markdown",
   "metadata": {
    "ExecuteTime": {
     "end_time": "2022-02-03T03:40:37.772586Z",
     "start_time": "2022-02-03T03:40:37.761616Z"
    }
   },
   "source": [
    "## Insertions on other tables"
   ]
  },
  {
   "cell_type": "code",
   "execution_count": null,
   "metadata": {
    "ExecuteTime": {
     "end_time": "2022-02-13T19:43:16.859104Z",
     "start_time": "2022-02-13T19:37:53.409249Z"
    }
   },
   "outputs": [],
   "source": [
    "cursor = connect_db()\n",
    "\n",
    "cursor.execute(f\"SELECT cod_competicao  FROM tb_competicao WHERE date_part('year', data_final_competicao) = {year};\")\n",
    "               \n",
    "list_cod_comp = cursor.fetchall()   \n",
    "\n",
    "ssl._create_default_https_context = ssl._create_unverified_context\n",
    "\n",
    "lista_full = []\n",
    "\n",
    "for compt in list_cod_comp:\n",
    "    get_html = requests.get(f'https://worldathletics.org/records/competition-performance-rankings/ranking/{compt[0]}')\n",
    "    print (f'https://worldathletics.org/records/competition-performance-rankings/ranking/{compt[0]}')\n",
    "    html = get_html.content\n",
    "    soup = BeautifulSoup(html)\n",
    "    list_results = soup.find_all('div', attrs = {'class' : 'cpr-result-score'})\n",
    "\n",
    "    list_competicao = soup.find_all('tbody')[0].find_all('tr')\n",
    "\n",
    "    for i in list_results:\n",
    "        try:\n",
    "            prova = i.find_all('h3')[0].text.split(\"'s\")\n",
    "            print (f'Prova {prova[0]} na modalidade {prova[1]}')\n",
    "            score_prova =i.find_all('p')[0].text.split(\":\")\n",
    "            cursor.execute(f\"INSERT INTO tb_prova (nome_prova, genero_prova) VALUES ('{prova[1]}', '{prova[0]}')\")\n",
    "            \n",
    "            cursor.execute(f\"SELECT cod_prova  FROM tb_prova WHERE nome_prova='{prova[1]}' and genero_prova='{prova[0]}';\")\n",
    "               \n",
    "            cod_prova = cursor.fetchone()        \n",
    "            print (f'codigo  da prova {cod_prova[0]}')         \n",
    "            lista_tb_atleta_competicao = []\n",
    "            for x in i.find_all('tbody')[0].find_all('tr'):\n",
    "                score = x.find_all('td')[0].text\n",
    "                result = x.find_all('td')[1].text\n",
    "                date = x.find_all('td')[2].text\n",
    "                cod_atleta = re.findall(r'\\d+', x.find_all('td')[3].find_all('span')[0]['data-href'])[0]\n",
    "                lista_full.append((cod_prova[0],score_prova[1].strip(), score.strip(), result.strip(), date.strip(), cod_atleta.strip()))    \n",
    "                lista_tb_atleta_competicao.append([cod_atleta,result,score])\n",
    "            atualiza_prova_compet(cursor, cod_prova[0],compt,score_prova[1], date.strip())\n",
    "            atualiza_atleta(cursor,cod_atleta, lista_tb_atleta_competicao)\n",
    "            atualiza_atleta_prova_competicao(cursor,cod_prova[0],compt,lista_tb_atleta_competicao)\n",
    "        \n",
    "        except IndexError:\n",
    "            break\n",
    "        except UniqueViolation:\n",
    "            print (\"Prova ja existe\")\n",
    "            cursor.execute(f\"SELECT cod_prova  FROM tb_prova WHERE nome_prova='{prova[1]}' and genero_prova='{prova[0]}';\")\n",
    "            cod_prova = cursor.fetchone()        \n",
    "            print (f'codigo  da prova {cod_prova[0]}')         \n",
    "            lista_tb_atleta_competicao = []\n",
    "            for x in i.find_all('tbody')[0].find_all('tr'):\n",
    "                try:\n",
    "                    score = x.find_all('td')[0].text\n",
    "                    result = x.find_all('td')[1].text\n",
    "                    date = x.find_all('td')[2].text\n",
    "                    cod_atleta = re.findall(r'\\d+', x.find_all('td')[3].find_all('span')[0]['data-href'])[0]\n",
    "                    lista_full.append((cod_prova[0],score_prova[1].strip(), score.strip(), result.strip(), date.strip(), cod_atleta.strip()))   \n",
    "                    lista_tb_atleta_competicao.append([cod_atleta,result,score])\n",
    "                except IndexError:\n",
    "                    break\n",
    "            \n",
    "            atualiza_prova_compet(cursor, cod_prova[0],compt,score_prova[1], date.strip())\n",
    "            atualiza_atleta(cursor,cod_atleta, lista_tb_atleta_competicao)\n",
    "            atualiza_atleta_prova_competicao(cursor,cod_prova[0],compt,lista_tb_atleta_competicao)\n",
    "            continue\n",
    "if connection:\n",
    "    connection.commit()\n",
    "    cursor.close()\n",
    "    connection.close()\n",
    "    print(\"PostgreSQL connection is closed\")"
   ]
  },
  {
   "cell_type": "markdown",
   "metadata": {},
   "source": [
    "## Updating climate conditions "
   ]
  },
  {
   "cell_type": "code",
   "execution_count": 38,
   "metadata": {
    "ExecuteTime": {
     "end_time": "2022-02-20T00:02:33.382827Z",
     "start_time": "2022-02-20T00:01:53.049151Z"
    }
   },
   "outputs": [
    {
     "name": "stdout",
     "output_type": "stream",
     "text": [
      "fim do processamento\n"
     ]
    },
    {
     "ename": "NameError",
     "evalue": "name 'connection' is not defined",
     "output_type": "error",
     "traceback": [
      "\u001b[1;31m---------------------------------------------------------------------------\u001b[0m",
      "\u001b[1;31mNameError\u001b[0m                                 Traceback (most recent call last)",
      "\u001b[1;32m<ipython-input-38-5bec59ba3b2b>\u001b[0m in \u001b[0;36m<module>\u001b[1;34m\u001b[0m\n\u001b[0;32m     43\u001b[0m \u001b[0mprint\u001b[0m \u001b[1;33m(\u001b[0m\u001b[1;34m\"fim do processamento\"\u001b[0m\u001b[1;33m)\u001b[0m\u001b[1;33m\u001b[0m\u001b[1;33m\u001b[0m\u001b[0m\n\u001b[0;32m     44\u001b[0m \u001b[1;33m\u001b[0m\u001b[0m\n\u001b[1;32m---> 45\u001b[1;33m \u001b[1;32mif\u001b[0m \u001b[0mconnection\u001b[0m\u001b[1;33m:\u001b[0m\u001b[1;33m\u001b[0m\u001b[1;33m\u001b[0m\u001b[0m\n\u001b[0m\u001b[0;32m     46\u001b[0m     \u001b[0mconnection\u001b[0m\u001b[1;33m.\u001b[0m\u001b[0mcommit\u001b[0m\u001b[1;33m(\u001b[0m\u001b[1;33m)\u001b[0m\u001b[1;33m\u001b[0m\u001b[1;33m\u001b[0m\u001b[0m\n\u001b[0;32m     47\u001b[0m     \u001b[0mcursor\u001b[0m\u001b[1;33m.\u001b[0m\u001b[0mclose\u001b[0m\u001b[1;33m(\u001b[0m\u001b[1;33m)\u001b[0m\u001b[1;33m\u001b[0m\u001b[1;33m\u001b[0m\u001b[0m\n",
      "\u001b[1;31mNameError\u001b[0m: name 'connection' is not defined"
     ]
    }
   ],
   "source": [
    "cursor = connect_db()\n",
    "\n",
    "ssl._create_default_https_context = ssl._create_unverified_context\n",
    "count_query = 0\n",
    "\n",
    "cursor.execute(f\"select distinct * from cidades where  date_part('year', data_prova_competicao) ={year}\")\n",
    "             \n",
    "list_data = cursor.fetchall()   \n",
    "for i in list_data:\n",
    "    cidade_competicao = [i][0][0]\n",
    "    pais_competicao = [i][0][1]\n",
    "    data_prova_competicao = [i][0][2]\n",
    "    cursor.execute(f\"select count (*) from tb_wheter where  cidade_competicao like '{cidade_competicao}' and \"\\\n",
    "               f\"pais_competicao like '{pais_competicao}' and data_prova_competicao = '{data_prova_competicao }'\")\n",
    "    list_find_reg = cursor.fetchall()   \n",
    "\n",
    "    if list_find_reg[0][0] != 1:\n",
    "        try:\n",
    "            resp_json = requests.get(f'https://weather.visualcrossing.com/VisualCrossingWebServices/rest/services/timeline/{cidade_competicao}%2C%20{pais_competicao}/{data_prova_competicao}/{data_prova_competicao}?unitGroup=metric&include=days&key={token_wheter}&contentType=json')\n",
    "            if resp_json.status_code == 401:\n",
    "                print (f\"Vixe, chegou no limite de hoje, foram {count_query} queries\")\n",
    "                break\n",
    "            else:\n",
    "                count_query += 1\n",
    "                update_wheter(cursor, data_prova_competicao, pais_competicao, cidade_competicao, json.dumps(resp_json.json()))\n",
    "        except  JSONDecodeError:\n",
    "                print (f\"Erro na cidade {cidade_competicao} pais {pais_competicao}\")\n",
    "                resp_json = requests.get(f'https://weather.visualcrossing.com/VisualCrossingWebServices/rest/services/timeline/{pais_competicao}/{data_prova_competicao}/{data_prova_competicao}?unitGroup=metric&include=days&key={token_wheter}&contentType=json')\n",
    "                count_query += 1\n",
    "                update_wheter(cursor, data_prova_competicao, pais_competicao, cidade_competicao, json.dumps(resp_json.json()))\n",
    "               \n",
    "                continue\n",
    "                \n",
    "        except SyntaxError:\n",
    "            try:\n",
    "                print (f\"Erro na cidade {cidade_competicao} pais {pais_competicao}\")\n",
    "                resp_json = requests.get(f'https://weather.visualcrossing.com/VisualCrossingWebServices/rest/services/timeline/{pais_competicao}/{data_prova_competicao}/{data_prova_competicao}?unitGroup=metric&include=days&key={token_wheter}&contentType=json')\n",
    "                count_query += 1\n",
    "                update_wheter(cursor, data_prova_competicao, pais_competicao, cidade_competicao, json.dumps(resp_json.json()))\n",
    "            except SyntaxError:  \n",
    "                continue\n",
    "    \n",
    "print (\"fim do processamento\")\n",
    "\n",
    "if connection:\n",
    "    connection.commit()\n",
    "    cursor.close()\n",
    "    connection.close()\n",
    "    print(\"PostgreSQL connection is closed\")\n"
   ]
  },
  {
   "cell_type": "code",
   "execution_count": null,
   "metadata": {},
   "outputs": [],
   "source": []
  },
  {
   "cell_type": "markdown",
   "metadata": {},
   "source": [
    "## Updating athletes information "
   ]
  },
  {
   "cell_type": "code",
   "execution_count": null,
   "metadata": {
    "ExecuteTime": {
     "end_time": "2022-02-18T22:19:00.321142Z",
     "start_time": "2022-02-18T21:44:00.510565Z"
    }
   },
   "outputs": [],
   "source": [
    "\n",
    "cursor = connect_db()\n",
    "\n",
    "cursor.execute(f\"SELECT cod_competicao  FROM tb_competicao WHERE date_part('year', data_final_competicao) = {year};\")\n",
    "               \n",
    "list_cod_comp = cursor.fetchall()   \n",
    "\n",
    "ssl._create_default_https_context = ssl._create_unverified_context\n",
    "\n",
    "lista_full = []\n",
    "\n",
    "for compt in list_cod_comp:\n",
    "    get_html = requests.get(f'https://worldathletics.org/records/competition-performance-rankings/ranking/{compt[0]}')\n",
    "    print (f'https://worldathletics.org/records/competition-performance-rankings/ranking/{compt[0]}')\n",
    "    html = get_html.content\n",
    "    soup = BeautifulSoup(html)\n",
    "    list_results = soup.find_all('div', attrs = {'class' : 'cpr-result-score'})\n",
    "\n",
    "    list_competicao = soup.find_all('tbody')[0].find_all('tr')\n",
    "    \n",
    "   \n",
    "    lista_tb_atleta_competicao = []   \n",
    "    \n",
    "\n",
    "    for i in list_results:\n",
    "        \n",
    "       \n",
    "            \n",
    "            for x in i.find_all('tbody')[0].find_all('tr'):\n",
    "                try:\n",
    "                        cod_atleta = re.findall(r'\\d+', x.find_all('td')[3].find_all('span')[0]['data-href'])[0]\n",
    "                        uri_atleta = x.find_all('td')[3].find_all('span')[0]['data-href']\n",
    "                        url_atleta =  'https://worldathletics.org' + uri_atleta\n",
    "                        pais_atleta =  uri_atleta.split('/')[2]\n",
    "                        nome_atleta =  uri_atleta.split('/')[3]\n",
    "                        if cod_atleta in lista_tb_atleta_competicao:\n",
    "                            print (\"ja atualizou\")\n",
    "                        else:\n",
    "                            update_atleta(cursor, cod_atleta,url_atleta,pais_atleta,nome_atleta)\n",
    "                            lista_tb_atleta_competicao.append(cod_atleta)\n",
    "                               \n",
    "                except IndexError:\n",
    "                    break\n",
    "                    \n",
    "            \n",
    "if connection:\n",
    "    connection.commit()\n",
    "    cursor.close()\n",
    "    connection.close()\n",
    "    print(\"PostgreSQL connection is closed\")"
   ]
  },
  {
   "cell_type": "markdown",
   "metadata": {
    "ExecuteTime": {
     "end_time": "2022-02-17T03:18:43.479848Z",
     "start_time": "2022-02-17T03:18:43.379119Z"
    }
   },
   "source": [
    "## Update atlhetes age"
   ]
  },
  {
   "cell_type": "code",
   "execution_count": null,
   "metadata": {
    "ExecuteTime": {
     "end_time": "2022-02-19T23:42:34.661988Z",
     "start_time": "2022-02-19T23:42:33.960705Z"
    }
   },
   "outputs": [],
   "source": [
    "cursor = connect_db()\n",
    "pool.terminate()\n",
    "pool = Pool(processes=cpu_count()-1)\n",
    "\n",
    "cursor.execute(f\"select distinct AT.cod_atleta, AT.url_atleta from db_atl.tb_competicao as T, db_atl.tb_prova_competicao as C,\" \\\n",
    "               f\"db_atl.tb_prova as P, tb_atleta_prova_competicao as A, tb_atleta as AT \" \\\n",
    "               f\" where  T.cod_competicao = C.cod_competicao and C.cod_prova_competicao = A.cod_prova_competicao and \" \\\n",
    "               f\"C.cod_prova = P.cod_prova and P.nome_prova like '_100 Metres_%'  and AT.cod_atleta = A.cod_atleta\" )\n",
    "            \n",
    "             \n",
    "list_cod_url = cursor.fetchall()   \n",
    "\n",
    "ssl._create_default_https_context = ssl._create_unverified_context\n",
    "\n",
    "\n",
    "\n",
    "for compt in list_cod_url:\n",
    "    get_html = requests.get(compt[1])\n",
    "    html = get_html.content\n",
    "    soup = BeautifulSoup(html)\n",
    "    date_born = soup.find_all('div', attrs = {'class' : 'profileBasicInfo_statValue__IXJTW'})[1].text.strip()\n",
    " \n",
    "    \n",
    "    print (compt[0], date_born)\n",
    "    \n",
    "    cursor.execute(f\"UPDATE tb_atleta SET nascimento_atleta = '{date_born}' \" \\\n",
    "                         f\"WHERE cod_atleta = {compt[0]}\")\n",
    "            \n",
    "if connection:\n",
    "    connection.commit()\n",
    "    cursor.close()\n",
    "    connection.close()\n",
    "    print(\"PostgreSQL connection is closed\")\n"
   ]
  },
  {
   "cell_type": "code",
   "execution_count": null,
   "metadata": {},
   "outputs": [],
   "source": []
  }
 ],
 "metadata": {
  "kernelspec": {
   "display_name": "Python 3",
   "language": "python",
   "name": "python3"
  },
  "language_info": {
   "codemirror_mode": {
    "name": "ipython",
    "version": 3
   },
   "file_extension": ".py",
   "mimetype": "text/x-python",
   "name": "python",
   "nbconvert_exporter": "python",
   "pygments_lexer": "ipython3",
   "version": "3.7.6"
  },
  "toc": {
   "base_numbering": 1,
   "nav_menu": {},
   "number_sections": true,
   "sideBar": true,
   "skip_h1_title": false,
   "title_cell": "Table of Contents",
   "title_sidebar": "Contents",
   "toc_cell": false,
   "toc_position": {},
   "toc_section_display": true,
   "toc_window_display": false
  },
  "varInspector": {
   "cols": {
    "lenName": 16,
    "lenType": 16,
    "lenVar": 40
   },
   "kernels_config": {
    "python": {
     "delete_cmd_postfix": "",
     "delete_cmd_prefix": "del ",
     "library": "var_list.py",
     "varRefreshCmd": "print(var_dic_list())"
    },
    "r": {
     "delete_cmd_postfix": ") ",
     "delete_cmd_prefix": "rm(",
     "library": "var_list.r",
     "varRefreshCmd": "cat(var_dic_list()) "
    }
   },
   "types_to_exclude": [
    "module",
    "function",
    "builtin_function_or_method",
    "instance",
    "_Feature"
   ],
   "window_display": false
  }
 },
 "nbformat": 4,
 "nbformat_minor": 4
}
