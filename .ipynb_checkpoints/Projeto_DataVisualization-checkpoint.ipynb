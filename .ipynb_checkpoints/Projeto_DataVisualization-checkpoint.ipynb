{
 "cells": [
  {
   "cell_type": "markdown",
   "metadata": {},
   "source": [
    "#  DATA VISUALIZATION PROJECT"
   ]
  },
  {
   "cell_type": "markdown",
   "metadata": {},
   "source": [
    "## IMPORT LIBRARIES "
   ]
  },
  {
   "cell_type": "code",
   "execution_count": null,
   "metadata": {
    "ExecuteTime": {
     "end_time": "2022-02-01T22:55:41.002440Z",
     "start_time": "2022-02-01T22:55:36.353077Z"
    }
   },
   "outputs": [],
   "source": [
    "!pip install psycopg2"
   ]
  },
  {
   "cell_type": "code",
   "execution_count": null,
   "metadata": {
    "ExecuteTime": {
     "end_time": "2022-02-04T02:11:22.782353Z",
     "start_time": "2022-02-04T02:11:15.013960Z"
    }
   },
   "outputs": [],
   "source": [
    "import re\n",
    "import time\n",
    "import requests\n",
    "import pandas as pd\n",
    "from bs4 import BeautifulSoup\n",
    "import psycopg2\n",
    "from psycopg2.errors import UniqueViolation\n",
    "from sqlalchemy import create_engine\n",
    "import ssl"
   ]
  },
  {
   "cell_type": "markdown",
   "metadata": {},
   "source": [
    "## FUNCTIONS"
   ]
  },
  {
   "cell_type": "code",
   "execution_count": null,
   "metadata": {
    "ExecuteTime": {
     "end_time": "2022-02-04T02:11:22.859117Z",
     "start_time": "2022-02-04T02:11:22.848144Z"
    }
   },
   "outputs": [],
   "source": [
    "def getcomp(year_comp, pag=1):\n",
    "    '''\n",
    "    year_comp is the year when competition was done\n",
    "\n",
    "    Its return is a object soup. It´s a kind of html conteiner based an answer from server\n",
    "    or can be a integer -1 when there is no information for that year\n",
    "\n",
    "\n",
    "    '''  \n",
    "    ssl._create_default_https_context = ssl._create_unverified_context\n",
    "    get_html = requests.get(f'https://worldathletics.org/records/competition-performance-rankings?type=2&year={year_comp}&sortBy=score&page={pag}')\n",
    "    html = get_html.content\n",
    "    soup = BeautifulSoup(html)\n",
    "    list_results = soup.find_all('h2', attrs = {'class' : 'no-results'})\n",
    "    if len(list_results) > 0:\n",
    "        return -1\n",
    "    return [soup, pag]\n",
    "\n"
   ]
  },
  {
   "cell_type": "code",
   "execution_count": null,
   "metadata": {
    "ExecuteTime": {
     "end_time": "2022-02-04T02:11:23.030708Z",
     "start_time": "2022-02-04T02:11:22.911987Z"
    }
   },
   "outputs": [],
   "source": [
    "def atualiza_prova_compet(cursor, cod_prova, cod_competicao, score_prova_competicao,data_prova_competicao):\n",
    "    try: \n",
    "        print(f'Inserindo competicao {cod_competicao} e prova {cod_prova}')\n",
    "        cursor.execute(f\"INSERT INTO tb_prova_competicao (cod_prova, cod_competicao, score_prova_competicao,data_prova_competicao)\" \\\n",
    "                       f\"VALUES ({cod_prova}, {cod_competicao[0]}, {score_prova_competicao},'{data_prova_competicao}')\")\n",
    "\n",
    "    except UniqueViolation:\n",
    "        print (\"prova ja existe na competicao\")\n",
    "                    "
   ]
  },
  {
   "cell_type": "code",
   "execution_count": null,
   "metadata": {
    "ExecuteTime": {
     "end_time": "2022-02-04T02:11:23.202673Z",
     "start_time": "2022-02-04T02:11:23.081573Z"
    }
   },
   "outputs": [],
   "source": [
    "def atualiza_atleta_prova_competicao(cursor,cod_prova, cod_competicao, lista_tb_atleta_competicao):\n",
    "    cursor.execute(f\"select cod_prova_competicao from tb_prova_competicao where cod_prova = {cod_prova} and cod_competicao = {cod_competicao[0]}\")\n",
    "    cod_prova_competicao = cursor.fetchone()[0] \n",
    "    for x in lista_tb_atleta_competicao:\n",
    "        try:\n",
    "            print(f'Inserindo atleta {x[0]}')\n",
    "            cursor.execute(f\"INSERT INTO tb_atleta_prova_competicao (cod_atleta, cod_prova_competicao, result, score)\" \\\n",
    "                         f\"VALUES ({x[0]}, {cod_prova_competicao}, '{x[1]}', {x[2]})\")\n",
    "        except UniqueViolation:\n",
    "            print (\"atleta ja existe na prova\")\n",
    "\n",
    "            \n",
    "\n",
    "            "
   ]
  },
  {
   "cell_type": "code",
   "execution_count": null,
   "metadata": {
    "ExecuteTime": {
     "end_time": "2022-02-04T02:12:42.460177Z",
     "start_time": "2022-02-04T02:12:42.438268Z"
    }
   },
   "outputs": [],
   "source": [
    "def atualiza_atleta(cursor,cod_atleta, lista_tb_atleta_competicao):\n",
    "   \n",
    "    for x in lista_tb_atleta_competicao:\n",
    "        try:\n",
    "            print(f'Inserindo atleta na tb_atleta {x[0]}')\n",
    "            cursor.execute(f\"INSERT INTO tb_atleta (cod_atleta)\" \\\n",
    "                         f\"VALUES ({x[0]})\")\n",
    "        except UniqueViolation:\n",
    "            print (\"atleta ja existe na tb_atleta\")"
   ]
  },
  {
   "cell_type": "markdown",
   "metadata": {},
   "source": [
    "## Insertions on tb_competicao"
   ]
  },
  {
   "cell_type": "code",
   "execution_count": null,
   "metadata": {
    "ExecuteTime": {
     "end_time": "2022-02-04T02:26:05.927790Z",
     "start_time": "2022-02-04T02:24:05.624100Z"
    }
   },
   "outputs": [],
   "source": [
    "connection = psycopg2.connect(user=\"postgres\",\n",
    "                                  password=\"jujuba11\",\n",
    "                                  host=\"127.0.0.1\",\n",
    "                                  port=\"5432\",\n",
    "                                  database=\"db_atletismo\",\n",
    "                                  options=\"-c search_path=db_atl\")\n",
    "\n",
    "\n",
    "connection.autocommit = True\n",
    "cursor = connection.cursor()\n",
    "contador = 0\n",
    "list_results = []\n",
    "year= 2019\n",
    "soup = getcomp(year,1)[0]\n",
    "pagina = getcomp(year,1)[1]   \n",
    "last_page = int(soup.find_all('a', attrs = {'class' : 'btn--pagination btn--pag-last pag-control'})[0]['data-page'])\n",
    "list_competicao = soup.find_all('tbody')[0].find_all('tr')\n",
    "\n",
    "if last_page > 0:\n",
    "    for pagina_int in range(last_page):\n",
    "        pagina_int += 1\n",
    "        soup = getcomp(year,pagina_int)[0]\n",
    "        pagina = getcomp(year,pagina_int)[1]   \n",
    "        list_competicao = soup.find_all('tbody')[0].find_all('tr')\n",
    "    \n",
    "        time.sleep(5)\n",
    "\n",
    "        for line in range(len(list_competicao)-1):\n",
    "            try:\n",
    "                cod_competicao = re.findall(r'\\d+',list_competicao[line]['data-href'])[0]\n",
    "                place = list_competicao[line].find_all('td')[0].text.strip()\n",
    "                #  competition = list_competicao[line].find_all('td')[1].text.strip()\n",
    "            \n",
    "                tamanho = len(list_competicao[line].find_all('td')[1].text.strip().split(\",\"))\n",
    "            \n",
    "                lista_nome_competicao = list_competicao[line].find_all('td')[1].text.strip().split(\",\")\n",
    "                nome_competicao = \" \".join(re.findall(\"[a-zA-Z]+\", lista_nome_competicao[0].strip()))\n",
    "                cidade_competicao =  \" \".join(re.findall(\"[a-zA-Z]+\", lista_nome_competicao[len(lista_nome_competicao)-1].strip()))\n",
    "                   \n",
    "         \n",
    "                country = list_competicao[line].find_all('td')[2].text.strip()\n",
    "                Start_date = list_competicao[line].find_all('td')[3].text.strip()\n",
    "                end_date = list_competicao[line].find_all('td')[4].text.strip()\n",
    "                part_score = list_competicao[line].find_all('td')[5].text.strip()\n",
    "                ps_place = list_competicao[line].find_all('td')[6].text.strip()\n",
    "                result_score = list_competicao[line].find_all('td')[7].text.strip()\n",
    "                rs_place = list_competicao[line].find_all('td')[8].text.strip()\n",
    "       \n",
    "                if pagina == 1:\n",
    "                   comp_score = list_competicao[line].find_all('td')[10].text.strip()\n",
    "                else:\n",
    "                    comp_score = list_competicao[line].find_all('td')[9].text.strip()\n",
    "             \n",
    "                list_results.append((cod_competicao, nome_competicao, comp_score, part_score, result_score, Start_date, end_date,\n",
    "                                  cidade_competicao, country, ps_place, rs_place ))\n",
    "            \n",
    "            \n",
    "                sql_update = f\"INSERT INTO tb_competicao (cod_competicao, nome_competição, score_competicao,\" \\\n",
    "                    f\"score_participacao_competicao, score_result_competicao, data_inicial_competicao,\" \\\n",
    "                    f\"data_final_competicao, cidade_competicao, pais_competicao,\" \\\n",
    "                    f\"ps_place_competicao, rs_place_competicao)\" \\\n",
    "                    f\" VALUES ({cod_competicao},'{nome_competicao}','{comp_score}','{part_score}','{result_score}','{Start_date}','{end_date}', \"\\\n",
    "                    f\"'{cidade_competicao}','{country}','{ps_place}','{rs_place}')\"\n",
    "                contador += 1  \n",
    "                print (f'Executando Query {contador} executada')\n",
    "                cursor.execute(sql_update)\n",
    "        \n",
    "           # except UniqueViolation:\n",
    "           #     print(\"Registro encontrado\")\n",
    "           #     continue     ''' \n",
    "            \n",
    "            except (Exception, psycopg2.DatabaseError) as error:\n",
    "                print(\"Error in transction Reverting all other operations of a transction \", error)\n",
    "    \n",
    "\n",
    "print(\"Transaction completed successfully \")\n",
    "if connection:\n",
    "    connection.commit()\n",
    "    cursor.close()\n",
    "    connection.close()\n",
    "    print(\"PostgreSQL connection is closed\")\n",
    "    \n",
    "     "
   ]
  },
  {
   "cell_type": "markdown",
   "metadata": {
    "ExecuteTime": {
     "end_time": "2022-02-03T03:40:37.772586Z",
     "start_time": "2022-02-03T03:40:37.761616Z"
    }
   },
   "source": [
    "## Insertions on other tables"
   ]
  },
  {
   "cell_type": "code",
   "execution_count": null,
   "metadata": {
    "ExecuteTime": {
     "end_time": "2022-02-04T02:56:26.924376Z",
     "start_time": "2022-02-04T02:26:13.319984Z"
    }
   },
   "outputs": [],
   "source": [
    "connection = psycopg2.connect(user=\"postgres\",\n",
    "                                  password=\"jujuba11\",\n",
    "                                  host=\"127.0.0.1\",\n",
    "                                  port=\"5432\",\n",
    "                                  database=\"db_atletismo\",\n",
    "                                  options=\"-c search_path=db_atl\")\n",
    "\n",
    "\n",
    "connection.autocommit = True\n",
    "cursor = connection.cursor()\n",
    "\n",
    "cursor.execute(f\"SELECT cod_competicao  FROM tb_competicao WHERE date_part('year', data_final_competicao) = {year};\")\n",
    "               \n",
    "list_cod_comp = cursor.fetchall()   \n",
    "\n",
    "ssl._create_default_https_context = ssl._create_unverified_context\n",
    "\n",
    "lista_full = []\n",
    "\n",
    "for compt in list_cod_comp:\n",
    "    get_html = requests.get(f'https://worldathletics.org/records/competition-performance-rankings/ranking/{compt[0]}')\n",
    "    print (f'https://worldathletics.org/records/competition-performance-rankings/ranking/{compt[0]}')\n",
    "    html = get_html.content\n",
    "    soup = BeautifulSoup(html)\n",
    "    list_results = soup.find_all('div', attrs = {'class' : 'cpr-result-score'})\n",
    "\n",
    "    list_competicao = soup.find_all('tbody')[0].find_all('tr')\n",
    "\n",
    "    for i in list_results:\n",
    "        try:\n",
    "            prova = i.find_all('h3')[0].text.split(\"'s\")\n",
    "            print (f'Prova {prova[0]} na modalidade {prova[1]}')\n",
    "            score_prova =i.find_all('p')[0].text.split(\":\")\n",
    "            cursor.execute(f\"INSERT INTO tb_prova (nome_prova, genero_prova) VALUES ('{prova[1]}', '{prova[0]}')\")\n",
    "            \n",
    "            cursor.execute(f\"SELECT cod_prova  FROM tb_prova WHERE nome_prova='{prova[1]}' and genero_prova='{prova[0]}';\")\n",
    "               \n",
    "            cod_prova = cursor.fetchone()        \n",
    "            print (f'codigo  da prova {cod_prova[0]}')         \n",
    "            lista_tb_atleta_competicao = []\n",
    "            for x in i.find_all('tbody')[0].find_all('tr'):\n",
    "                score = x.find_all('td')[0].text\n",
    "                result = x.find_all('td')[1].text\n",
    "                date = x.find_all('td')[2].text\n",
    "                cod_atleta = re.findall(r'\\d+', x.find_all('td')[3].find_all('span')[0]['data-href'])[0]\n",
    "                lista_full.append((cod_prova[0],score_prova[1].strip(), score.strip(), result.strip(), date.strip(), cod_atleta.strip()))    \n",
    "                lista_tb_atleta_competicao.append([cod_atleta,result,score])\n",
    "            atualiza_prova_compet(cursor, cod_prova[0],compt,score_prova[1], date.strip())\n",
    "            atualiza_atleta(cursor,cod_atleta, lista_tb_atleta_competicao)\n",
    "            atualiza_atleta_prova_competicao(cursor,cod_prova[0],compt,lista_tb_atleta_competicao)\n",
    "        \n",
    "        except IndexError:\n",
    "            break\n",
    "        except UniqueViolation:\n",
    "            print (\"Prova ja existe\")\n",
    "            cursor.execute(f\"SELECT cod_prova  FROM tb_prova WHERE nome_prova='{prova[1]}' and genero_prova='{prova[0]}';\")\n",
    "            cod_prova = cursor.fetchone()        \n",
    "            print (f'codigo  da prova {cod_prova[0]}')         \n",
    "            lista_tb_atleta_competicao = []\n",
    "            for x in i.find_all('tbody')[0].find_all('tr'):\n",
    "                try:\n",
    "                    score = x.find_all('td')[0].text\n",
    "                    result = x.find_all('td')[1].text\n",
    "                    date = x.find_all('td')[2].text\n",
    "                    cod_atleta = re.findall(r'\\d+', x.find_all('td')[3].find_all('span')[0]['data-href'])[0]\n",
    "                    lista_full.append((cod_prova[0],score_prova[1].strip(), score.strip(), result.strip(), date.strip(), cod_atleta.strip()))   \n",
    "                    lista_tb_atleta_competicao.append([cod_atleta,result,score])\n",
    "                except IndexError:\n",
    "                    break\n",
    "            \n",
    "            atualiza_prova_compet(cursor, cod_prova[0],compt,score_prova[1], date.strip())\n",
    "            atualiza_atleta(cursor,cod_atleta, lista_tb_atleta_competicao)\n",
    "            atualiza_atleta_prova_competicao(cursor,cod_prova[0],compt,lista_tb_atleta_competicao)\n",
    "            continue\n",
    "if connection:\n",
    "    connection.commit()\n",
    "    cursor.close()\n",
    "    connection.close()\n",
    "    print(\"PostgreSQL connection is closed\")"
   ]
  },
  {
   "cell_type": "code",
   "execution_count": null,
   "metadata": {},
   "outputs": [],
   "source": []
  }
 ],
 "metadata": {
  "kernelspec": {
   "display_name": "Python 3",
   "language": "python",
   "name": "python3"
  },
  "language_info": {
   "codemirror_mode": {
    "name": "ipython",
    "version": 3
   },
   "file_extension": ".py",
   "mimetype": "text/x-python",
   "name": "python",
   "nbconvert_exporter": "python",
   "pygments_lexer": "ipython3",
   "version": "3.7.6"
  },
  "toc": {
   "base_numbering": 1,
   "nav_menu": {},
   "number_sections": true,
   "sideBar": true,
   "skip_h1_title": false,
   "title_cell": "Table of Contents",
   "title_sidebar": "Contents",
   "toc_cell": false,
   "toc_position": {},
   "toc_section_display": true,
   "toc_window_display": false
  },
  "varInspector": {
   "cols": {
    "lenName": 16,
    "lenType": 16,
    "lenVar": 40
   },
   "kernels_config": {
    "python": {
     "delete_cmd_postfix": "",
     "delete_cmd_prefix": "del ",
     "library": "var_list.py",
     "varRefreshCmd": "print(var_dic_list())"
    },
    "r": {
     "delete_cmd_postfix": ") ",
     "delete_cmd_prefix": "rm(",
     "library": "var_list.r",
     "varRefreshCmd": "cat(var_dic_list()) "
    }
   },
   "types_to_exclude": [
    "module",
    "function",
    "builtin_function_or_method",
    "instance",
    "_Feature"
   ],
   "window_display": false
  }
 },
 "nbformat": 4,
 "nbformat_minor": 4
}
